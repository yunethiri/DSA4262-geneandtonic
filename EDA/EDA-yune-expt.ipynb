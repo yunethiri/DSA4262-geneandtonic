{
 "cells": [
  {
   "cell_type": "code",
   "execution_count": null,
   "metadata": {},
   "outputs": [],
   "source": [
    "import pandas as pd\n",
    "import numpy as np\n",
    "import json"
   ]
  },
  {
   "cell_type": "code",
   "execution_count": null,
   "metadata": {},
   "outputs": [],
   "source": [
    "df_labels= 'data.info.txt'\n",
    "df_labels = pd.read_csv(df_labels, delimiter=',')"
   ]
  },
  {
   "cell_type": "code",
   "execution_count": null,
   "metadata": {},
   "outputs": [],
   "source": [
    "df_raw = 'dataset0.json'\n",
    "\n",
    "# Open the file and read line by line (each line = one read)\n",
    "with open(df_raw, 'r') as file:\n",
    "    data_list = []\n",
    "    for line in file:\n",
    "        try:\n",
    "            data = json.loads(line)  # Parse each line as a separate JSON object\n",
    "            data_list.append(data)\n",
    "        except json.JSONDecodeError as e:\n",
    "            print(f\"Error decoding JSON on line: {line}\")\n",
    "            print(f\"Error message: {e}\")\n",
    "\n",
    "# Optionally pretty-print the first JSON object for readability\n",
    "if data_list:\n",
    "    formatted_data = json.dumps(data_list[0], indent=4)\n",
    "    print(formatted_data)"
   ]
  },
  {
   "cell_type": "code",
   "execution_count": null,
   "metadata": {},
   "outputs": [],
   "source": []
  }
 ],
 "metadata": {
  "language_info": {
   "name": "python"
  }
 },
 "nbformat": 4,
 "nbformat_minor": 2
}
