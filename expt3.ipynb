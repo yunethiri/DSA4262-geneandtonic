{
 "cells": [
  {
   "cell_type": "markdown",
   "metadata": {},
   "source": [
    "### EXPT 2: Model V2 with balancing data (experimenting with different ratios)"
   ]
  },
  {
   "cell_type": "code",
   "execution_count": 2,
   "metadata": {},
   "outputs": [],
   "source": [
    "import pandas as pd\n",
    "import numpy as np\n",
    "\n",
    "import torch\n",
    "import torch.optim as optim\n",
    "\n",
    "from sklearn.metrics import roc_auc_score, average_precision_score, accuracy_score, confusion_matrix\n",
    "\n",
    "from mil_model.dataloader import create_dataloaders\n",
    "from mil_model.preprocessing import load_labels, load_dataset_json, build_bags\n",
    "from mil_model.train_utils import split_data, get_model_weights, get_pos_neg, balance_data\n",
    "from mil_model.loss import FocalLoss\n",
    "from mil_model.model import MILModel"
   ]
  },
  {
   "cell_type": "code",
   "execution_count": 3,
   "metadata": {},
   "outputs": [],
   "source": [
    "# process data\n",
    "labels, gene_id, transcript_id, transcript_pos = load_labels('data/data.info.txt')\n",
    "data_list = load_dataset_json('data/dataset0.json')\n",
    "bags = build_bags(data_list)\n",
    "\n",
    "df = pd.DataFrame({\n",
    "    'gene_id': gene_id,\n",
    "    'transcript_id': transcript_id,\n",
    "    'transcript_position': transcript_pos,\n",
    "    'bags': bags,\n",
    "    'label': labels\n",
    "})"
   ]
  },
  {
   "cell_type": "code",
   "execution_count": 4,
   "metadata": {},
   "outputs": [],
   "source": [
    "# set device\n",
    "device = torch.device('cuda' if torch.cuda.is_available() else 'cpu')"
   ]
  },
  {
   "cell_type": "code",
   "execution_count": 5,
   "metadata": {},
   "outputs": [],
   "source": [
    "# balance data \n",
    "bags_pos, labels_pos, bags_neg, labels_neg = get_pos_neg(bags, labels)\n",
    "\n",
    "# expt with diff desired ratios and see training metrics \n",
    "desired_ratio = [1,4]\n",
    "\n",
    "bags_resampled, labels_resampled = balance_data(bags_pos, labels_pos, bags_neg, labels_neg, desired_ratio)"
   ]
  },
  {
   "cell_type": "code",
   "execution_count": 6,
   "metadata": {},
   "outputs": [],
   "source": [
    "# split data\n",
    "bags_train, labels_train, bags_val, labels_val, bags_test, labels_test = split_data(bags, labels)"
   ]
  },
  {
   "cell_type": "code",
   "execution_count": 7,
   "metadata": {},
   "outputs": [],
   "source": [
    "# build dataloaders\n",
    "batch_size = 16 # because we want the output tensor to only process one bag at a time \n",
    "\n",
    "train_loader, val_loader, test_loader = create_dataloaders(bags_train, labels_train, bags_val, labels_val, bags_test, labels_test, batch_size = batch_size)"
   ]
  },
  {
   "cell_type": "code",
   "execution_count": 8,
   "metadata": {},
   "outputs": [],
   "source": [
    "# compute weights\n",
    "class_weights = get_model_weights(labels_train, device)"
   ]
  },
  {
   "cell_type": "code",
   "execution_count": 9,
   "metadata": {},
   "outputs": [],
   "source": [
    "# parameter for training\n",
    "input_dim = 9\n",
    "hidden_dim = 128 # og was 64\n",
    "learning_rate = 1e-4\n",
    "\n",
    "num_epochs = 10 # change epochs \n",
    "threshold = 0.5\n",
    "\n",
    "weight_decay = 1e-5\n",
    "alpha = 0.25\n",
    "gamma = 4\n",
    "\n",
    "criterion = FocalLoss(alpha=alpha, gamma=gamma)\n",
    "model = MILModel(input_dim, hidden_dim).to(device)\n",
    "optimizer = optim.Adam(model.parameters(), lr=learning_rate, betas=(0.9, 0.999), weight_decay=weight_decay)"
   ]
  },
  {
   "cell_type": "code",
   "execution_count": 11,
   "metadata": {},
   "outputs": [
    {
     "name": "stdout",
     "output_type": "stream",
     "text": [
      "Epoch [1/10], Loss: 0.0041\n",
      "Epoch 1/10, Train Loss: 0.0041, Val Loss: 0.0220, Val ROC-AUC: 0.7880, Val PR-AUC: 0.2749, Val Accuracy: 0.9560\n",
      "Epoch [2/10], Loss: 0.0035\n",
      "Epoch 2/10, Train Loss: 0.0035, Val Loss: 0.0201, Val ROC-AUC: 0.7843, Val PR-AUC: 0.2492, Val Accuracy: 0.9560\n",
      "Epoch [3/10], Loss: 0.0033\n",
      "Epoch 3/10, Train Loss: 0.0033, Val Loss: 0.0239, Val ROC-AUC: 0.8203, Val PR-AUC: 0.2837, Val Accuracy: 0.9564\n",
      "Epoch [4/10], Loss: 0.0033\n",
      "Epoch 4/10, Train Loss: 0.0033, Val Loss: 0.0215, Val ROC-AUC: 0.8238, Val PR-AUC: 0.3049, Val Accuracy: 0.9560\n",
      "Epoch [5/10], Loss: 0.0031\n",
      "Epoch 5/10, Train Loss: 0.0031, Val Loss: 0.0229, Val ROC-AUC: 0.8140, Val PR-AUC: 0.2998, Val Accuracy: 0.9564\n",
      "Epoch [6/10], Loss: 0.0031\n",
      "Epoch 6/10, Train Loss: 0.0031, Val Loss: 0.0206, Val ROC-AUC: 0.8285, Val PR-AUC: 0.3027, Val Accuracy: 0.9560\n",
      "Epoch [7/10], Loss: 0.0030\n",
      "Epoch 7/10, Train Loss: 0.0030, Val Loss: 0.0227, Val ROC-AUC: 0.8259, Val PR-AUC: 0.3112, Val Accuracy: 0.9567\n",
      "Epoch [8/10], Loss: 0.0030\n",
      "Epoch 8/10, Train Loss: 0.0030, Val Loss: 0.0203, Val ROC-AUC: 0.8260, Val PR-AUC: 0.3072, Val Accuracy: 0.9560\n",
      "Epoch [9/10], Loss: 0.0030\n",
      "Epoch 9/10, Train Loss: 0.0030, Val Loss: 0.0230, Val ROC-AUC: 0.8314, Val PR-AUC: 0.2890, Val Accuracy: 0.9562\n",
      "Epoch [10/10], Loss: 0.0029\n",
      "Epoch 10/10, Train Loss: 0.0029, Val Loss: 0.0206, Val ROC-AUC: 0.8253, Val PR-AUC: 0.2900, Val Accuracy: 0.9560\n"
     ]
    }
   ],
   "source": [
    "# training \n",
    "\n",
    "best_loss = np.inf\n",
    "epochs_without_improvement = 0\n",
    "patience = 10 # stop after 10 epochs of no improvement\n",
    "\n",
    "for epoch in range(num_epochs):\n",
    "    model.train()\n",
    "    epoch_loss = 0\n",
    "\n",
    "    for bags, labels, masks in train_loader:\n",
    "        bags, labels, masks = bags.to(device), labels.to(device), masks.to(device)  # Move to device\n",
    "        # reset gradients\n",
    "        optimizer.zero_grad()\n",
    "        outputs = model(bags, masks)\n",
    "        # calculate loss and metrics\n",
    "        loss = criterion(outputs, labels.float())\n",
    "        # backward pass\n",
    "        loss.backward()\n",
    "        # step\n",
    "        optimizer.step()\n",
    "        epoch_loss += loss.item()\n",
    "\n",
    "    avg_epoch_loss = epoch_loss / len(train_loader)\n",
    "\n",
    "    # Early stopping\n",
    "    if avg_epoch_loss < best_loss:\n",
    "        best_loss = avg_epoch_loss\n",
    "        epochs_without_improvement = 0\n",
    "        # Save your model here\n",
    "    else:\n",
    "        epochs_without_improvement += 1\n",
    "    \n",
    "    if epochs_without_improvement >= patience:\n",
    "        print(f\"Early stopping at epoch {epoch}\")\n",
    "        break\n",
    "\n",
    "    print(f'Epoch [{epoch+1}/{num_epochs}], Loss: {avg_epoch_loss:.4f}')\n",
    "    \n",
    "    # Validation\n",
    "    model.eval()\n",
    "    with torch.no_grad():\n",
    "        all_labels = []\n",
    "        all_outputs = []\n",
    "        val_losses = []\n",
    "        for bags, labels, masks in val_loader:\n",
    "            bags, labels, masks = bags.to(device), labels.to(device), masks.to(device) \n",
    "            outputs = model(bags, masks)\n",
    "            outputs = torch.sigmoid(outputs)\n",
    "\n",
    "            loss = criterion(outputs, labels.float())\n",
    "            val_losses.append(loss.item())\n",
    "\n",
    "            all_labels.extend(labels.cpu().numpy())\n",
    "            all_outputs.extend(outputs.cpu().numpy())\n",
    "\n",
    "        roc_auc = roc_auc_score(all_labels, all_outputs)\n",
    "        pr_auc = average_precision_score(all_labels, all_outputs)\n",
    "        acc = accuracy_score(all_labels, (np.array(all_outputs) > threshold).astype(int))\n",
    "        cm = confusion_matrix(all_labels, (np.array(all_outputs) > threshold).astype(int))\n",
    "        print(f\"Epoch {epoch+1}/{num_epochs}, \"\n",
    "              f\"Train Loss: {avg_epoch_loss:.4f}, \"\n",
    "              f\"Val Loss: {np.mean(val_losses):.4f}, \"\n",
    "              f\"Val ROC-AUC: {roc_auc:.4f}, \"\n",
    "              f\"Val PR-AUC: {pr_auc:.4f}, \"\n",
    "              f\"Val Accuracy: {acc:.4f}\")"
   ]
  },
  {
   "cell_type": "code",
   "execution_count": null,
   "metadata": {},
   "outputs": [],
   "source": [
    "torch.save(model.state_dict(), 'weights/expt3.pth')"
   ]
  }
 ],
 "metadata": {
  "kernelspec": {
   "display_name": "Python 3",
   "language": "python",
   "name": "python3"
  },
  "language_info": {
   "codemirror_mode": {
    "name": "ipython",
    "version": 3
   },
   "file_extension": ".py",
   "mimetype": "text/x-python",
   "name": "python",
   "nbconvert_exporter": "python",
   "pygments_lexer": "ipython3",
   "version": "3.11.4"
  }
 },
 "nbformat": 4,
 "nbformat_minor": 2
}
